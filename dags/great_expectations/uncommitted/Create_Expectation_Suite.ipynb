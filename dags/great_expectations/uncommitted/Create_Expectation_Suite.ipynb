{
 "cells": [
  {
   "cell_type": "code",
   "execution_count": 2,
   "id": "9fb09ed6",
   "metadata": {},
   "outputs": [],
   "source": [
    "import os\n",
    "\n",
    "\n",
    "from great_expectations.dataset import SqlAlchemyDataset\n",
    "from sqlalchemy import create_engine\n",
    "\n",
    "import great_expectations as ge\n",
    "# set variable CREDENTIALS_PATH before this step\n",
    "context = ge.data_context.DataContext()\n",
    "\n",
    "\n",
    "db_string = \"bigquery://akshata-project/staging_great_expectations\"\n",
    "#change this to the service account file in your path\n",
    "credentials = os.environ.get('CREDENTIALS_PATH')\n",
    "db_engine = create_engine(db_string, credentials_path=credentials)"
   ]
  },
  {
   "cell_type": "code",
   "execution_count": null,
   "id": "a0463044",
   "metadata": {},
   "outputs": [],
   "source": [
    "test_dataset = SqlAlchemyDataset(table_name='test.my_table', engine=db_engine)\n",
    "#define expectations\n",
    "test_dataset.expect_column_values_to_not_match_regex(\"data.headers.userAgent\", \"^aks\")\n",
    "# add more expectations\n",
    "\n",
    "\n",
    "# provide a name to the suite\n",
    "expectation_suite_name = \"<an appropritate name for the expectation suite. ex: expectation_suite\"\n",
    "#save the expectations.\n",
    "test_dataset.save_expectation_suite(expectation_suite_name)\n",
    "\n",
    "#This will save a file in the uncommitted directory. Review it and move it to the great_expectations -> expecations folder."
   ]
  }
 ],
 "metadata": {
  "kernelspec": {
   "display_name": "Python 3 (ipykernel)",
   "language": "python",
   "name": "python3"
  },
  "language_info": {
   "codemirror_mode": {
    "name": "ipython",
    "version": 3
   },
   "file_extension": ".py",
   "mimetype": "text/x-python",
   "name": "python",
   "nbconvert_exporter": "python",
   "pygments_lexer": "ipython3",
   "version": "3.8.11"
  }
 },
 "nbformat": 4,
 "nbformat_minor": 5
}
